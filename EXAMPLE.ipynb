{
 "cells": [
  {
   "cell_type": "markdown",
   "metadata": {},
   "source": [
    "# Prepare Data Set\n",
    "\n",
    "First, a data set is loaded. Function `load_data_from_df` automatically saves calculated features to the provided data directory (unless `use_data_saving` is set to `False`). Every next run will use the saved features."
   ]
  },
  {
   "cell_type": "code",
   "execution_count": 1,
   "metadata": {},
   "outputs": [],
   "source": [
    "import os\n",
    "import pandas as pd\n",
    "import torch\n",
    "os.chdir('src')\n",
    "import copy"
   ]
  },
  {
   "cell_type": "code",
   "execution_count": 2,
   "metadata": {},
   "outputs": [],
   "source": [
    "from featurization.data_utils import load_data_from_df, construct_loader\n",
    "from tqdm import tqdm"
   ]
  },
  {
   "cell_type": "code",
   "execution_count": 3,
   "metadata": {},
   "outputs": [],
   "source": [
    "batch_size = 64\n",
    "\n",
    "# Formal charges are one-hot encoded to keep compatibility with the pre-trained weights.\n",
    "# If you do not plan to use the pre-trained weights, we recommend to set one_hot_formal_charge to False.\n",
    "X, y = load_data_from_df('../data/freesolv/freesolv.csv', one_hot_formal_charge=False)\n",
    "\n",
    "train_x = X[:500]\n",
    "train_y = y[:500]\n",
    "test_x = X[500:]\n",
    "test_y = y[500:]\n",
    "data_loader = construct_loader(train_x, train_y, batch_size)\n",
    "test_data_loader = construct_loader(test_x, test_y, batch_size)"
   ]
  },
  {
   "cell_type": "markdown",
   "metadata": {},
   "source": [
    "You can use your data, but the CSV file should contain two columns as shown below:"
   ]
  },
  {
   "cell_type": "code",
   "execution_count": 4,
   "metadata": {},
   "outputs": [
    {
     "output_type": "execute_result",
     "data": {
      "text/plain": [
       "                   smiles         y\n",
       "0  CN(C)C(=O)c1ccc(cc1)OC -1.874467\n",
       "1            CS(=O)(=O)Cl -0.277514\n",
       "2                CC(C)C=C  1.465089\n",
       "3              CCc1cnccn1 -0.428367\n",
       "4                CCCCCCCO -0.105855"
      ],
      "text/html": "<div>\n<style scoped>\n    .dataframe tbody tr th:only-of-type {\n        vertical-align: middle;\n    }\n\n    .dataframe tbody tr th {\n        vertical-align: top;\n    }\n\n    .dataframe thead th {\n        text-align: right;\n    }\n</style>\n<table border=\"1\" class=\"dataframe\">\n  <thead>\n    <tr style=\"text-align: right;\">\n      <th></th>\n      <th>smiles</th>\n      <th>y</th>\n    </tr>\n  </thead>\n  <tbody>\n    <tr>\n      <th>0</th>\n      <td>CN(C)C(=O)c1ccc(cc1)OC</td>\n      <td>-1.874467</td>\n    </tr>\n    <tr>\n      <th>1</th>\n      <td>CS(=O)(=O)Cl</td>\n      <td>-0.277514</td>\n    </tr>\n    <tr>\n      <th>2</th>\n      <td>CC(C)C=C</td>\n      <td>1.465089</td>\n    </tr>\n    <tr>\n      <th>3</th>\n      <td>CCc1cnccn1</td>\n      <td>-0.428367</td>\n    </tr>\n    <tr>\n      <th>4</th>\n      <td>CCCCCCCO</td>\n      <td>-0.105855</td>\n    </tr>\n  </tbody>\n</table>\n</div>"
     },
     "metadata": {},
     "execution_count": 4
    }
   ],
   "source": [
    "pd.read_csv('../data/freesolv/freesolv.csv').head()"
   ]
  },
  {
   "cell_type": "markdown",
   "metadata": {},
   "source": [
    "# Prepare Model"
   ]
  },
  {
   "cell_type": "code",
   "execution_count": 5,
   "metadata": {},
   "outputs": [],
   "source": [
    "from transformer import make_model"
   ]
  },
  {
   "cell_type": "code",
   "execution_count": 13,
   "metadata": {},
   "outputs": [
    {
     "output_type": "stream",
     "name": "stdout",
     "text": [
      "(0.33, 0.33, 0.3399999999999999)\n"
     ]
    }
   ],
   "source": [
    "d_atom = X[0][0].shape[1]  # It depends on the used featurization.\n",
    "\n",
    "model_params = {\n",
    "    'd_atom': d_atom,\n",
    "    'd_model': 1024,\n",
    "    'N': 8,\n",
    "    'h': 16,\n",
    "    'N_dense': 1,\n",
    "    'lambda_attention': 0.33, \n",
    "    'lambda_distance': 0.33,\n",
    "    'leaky_relu_slope': 0.1, \n",
    "    'dense_output_nonlinearity': 'relu', \n",
    "    'distance_matrix_kernel': 'exp', \n",
    "    'dropout': 0.1,\n",
    "    'aggregation_type': 'mean'\n",
    "}\n",
    "\n",
    "model = make_model(**model_params)"
   ]
  },
  {
   "cell_type": "markdown",
   "metadata": {},
   "source": [
    "# Run Training/Evaluation Loop"
   ]
  },
  {
   "cell_type": "code",
   "execution_count": 16,
   "metadata": {},
   "outputs": [
    {
     "output_type": "stream",
     "name": "stderr",
     "text": [
      "  0%|          | 0/5 [00:00<?, ?it/s](0.33, 0.33, 0.3399999999999999)\n",
      " 20%|██        | 1/5 [00:00<00:01,  2.32it/s](0.33, 0.33, 0.3399999999999999)\n",
      " 40%|████      | 2/5 [00:00<00:01,  2.46it/s](0.33, 0.33, 0.3399999999999999)\n",
      " 60%|██████    | 3/5 [00:01<00:00,  2.55it/s](0.33, 0.33, 0.3399999999999999)\n",
      " 80%|████████  | 4/5 [00:01<00:00,  2.47it/s](0.33, 0.33, 0.3399999999999999)\n",
      "100%|██████████| 5/5 [00:01<00:00,  2.51it/s]\n",
      "  0%|          | 0/5 [00:00<?, ?it/s](1.0, 0.0, 0.0)\n",
      " 20%|██        | 1/5 [00:00<00:01,  2.57it/s](1.0, 0.0, 0.0)\n",
      " 40%|████      | 2/5 [00:00<00:01,  2.63it/s](1.0, 0.0, 0.0)\n",
      " 60%|██████    | 3/5 [00:01<00:00,  2.69it/s](1.0, 0.0, 0.0)\n",
      " 80%|████████  | 4/5 [00:01<00:00,  2.75it/s](1.0, 0.0, 0.0)\n",
      "100%|██████████| 5/5 [00:01<00:00,  2.72it/s]\n"
     ]
    }
   ],
   "source": [
    "d_atom = X[0][0].shape[1]  # It depends on the used featurization.\n",
    "\n",
    "distance_model_params = {\n",
    "    'd_atom': d_atom,\n",
    "    'd_model': 1024,\n",
    "    'N': 8,\n",
    "    'h': 16,\n",
    "    'N_dense': 1,\n",
    "    'lambda_attention': 0.33, \n",
    "    'lambda_distance': 0.33,\n",
    "    'leaky_relu_slope': 0.1, \n",
    "    'dense_output_nonlinearity': 'relu', \n",
    "    'distance_matrix_kernel': 'exp', \n",
    "    'dropout': 0.1,\n",
    "    'aggregation_type': 'mean'\n",
    "}\n",
    "\n",
    "no_distance_model_params = copy.deepcopy(distance_model_params)\n",
    "no_distance_model_params['lambda_distance'] = 0.0\n",
    "no_distance_model_params['lambda_attention'] = 1.0\n",
    "\n",
    "n_epochs = 30\n",
    "n_trials = 5\n",
    "d_trial_results = run_experiment(distance_model_params, n_trials, epochs=n_epochs)\n",
    "nd_trial_results = run_experiment(no_distance_model_params, n_trials, epochs=n_epochs)"
   ]
  },
  {
   "cell_type": "code",
   "execution_count": 41,
   "metadata": {},
   "outputs": [],
   "source": [
    "#0.55\n",
    "d_trial_results = []\n",
    "nd_trial_results = []"
   ]
  },
  {
   "cell_type": "code",
   "execution_count": null,
   "metadata": {},
   "outputs": [],
   "source": []
  }
 ],
 "metadata": {
  "kernelspec": {
   "display_name": "chem_env",
   "language": "python",
   "name": "chem_env"
  },
  "language_info": {
   "codemirror_mode": {
    "name": "ipython",
    "version": 3
   },
   "file_extension": ".py",
   "mimetype": "text/x-python",
   "name": "python",
   "nbconvert_exporter": "python",
   "pygments_lexer": "ipython3",
   "version": "3.7.10-final"
  }
 },
 "nbformat": 4,
 "nbformat_minor": 4
}