{
 "cells": [
  {
   "cell_type": "markdown",
   "metadata": {},
   "source": [
    "# Prepare Data Set\n",
    "\n",
    "First, a data set is loaded. Function `load_data_from_df` automatically saves calculated features to the provided data directory (unless `use_data_saving` is set to `False`). Every next run will use the saved features."
   ]
  },
  {
   "cell_type": "code",
   "execution_count": null,
   "metadata": {},
   "outputs": [],
   "source": [
    "import os\n",
    "import pandas as pd\n",
    "import torch\n",
    "os.chdir('src')\n",
    "import copy"
   ]
  },
  {
   "cell_type": "code",
   "execution_count": null,
   "metadata": {},
   "outputs": [],
   "source": [
    "from featurization.data_utils import load_data_from_df, construct_loader\n",
    "from tqdm import tqdm"
   ]
  },
  {
   "cell_type": "code",
   "execution_count": null,
   "metadata": {},
   "outputs": [],
   "source": [
    "batch_size = 64\n",
    "\n",
    "# Formal charges are one-hot encoded to keep compatibility with the pre-trained weights.\n",
    "# If you do not plan to use the pre-trained weights, we recommend to set one_hot_formal_charge to False.\n",
    "X, y = load_data_from_df('../data/freesolv/freesolv.csv', one_hot_formal_charge=True)\n",
    "data_loader = construct_loader(X, y, batch_size)"
   ]
  },
  {
   "cell_type": "markdown",
   "metadata": {},
   "source": [
    "You can use your data, but the CSV file should contain two columns as shown below:"
   ]
  },
  {
   "cell_type": "code",
   "execution_count": null,
   "metadata": {},
   "outputs": [],
   "source": [
    "pd.read_csv('../data/freesolv/freesolv.csv').head()"
   ]
  },
  {
   "cell_type": "markdown",
   "metadata": {},
   "source": [
    "# Prepare Model"
   ]
  },
  {
   "cell_type": "code",
   "execution_count": null,
   "metadata": {},
   "outputs": [],
   "source": [
    "from transformer import make_model"
   ]
  },
  {
   "cell_type": "code",
   "execution_count": null,
   "metadata": {},
   "outputs": [],
   "source": [
    "d_atom = X[0][0].shape[1]  # It depends on the used featurization.\n",
    "\n",
    "model_params = {\n",
    "    'd_atom': d_atom,\n",
    "    'd_model': 1024,\n",
    "    'N': 8,\n",
    "    'h': 16,\n",
    "    'N_dense': 1,\n",
    "    'lambda_attention': 0.33, \n",
    "    'lambda_distance': 0.33,\n",
    "    'leaky_relu_slope': 0.1, \n",
    "    'dense_output_nonlinearity': 'relu', \n",
    "    'distance_matrix_kernel': 'exp', \n",
    "    'dropout': 0.0,\n",
    "    'aggregation_type': 'mean'\n",
    "}\n",
    "\n",
    "model = make_model(**model_params)"
   ]
  },
  {
   "cell_type": "markdown",
   "metadata": {},
   "source": [
    "# Load Pretrained Weights (optional)\n",
    "\n",
    "If you want to use the pre-trained weights to train your model, **you should not change model parameters in the cell above**."
   ]
  },
  {
   "cell_type": "code",
   "execution_count": null,
   "metadata": {},
   "outputs": [],
   "source": [
    "# pretrained_name = '../pretrained_weights.pt'  # This file should be downloaded first (See README.md).\n",
    "# pretrained_state_dict = torch.load(pretrained_name)"
   ]
  },
  {
   "cell_type": "code",
   "execution_count": null,
   "metadata": {},
   "outputs": [],
   "source": [
    "# model_state_dict = model.state_dict()\n",
    "# for name, param in pretrained_state_dict.items():\n",
    "#     if 'generator' in name:\n",
    "#          continue\n",
    "#     if isinstance(param, torch.nn.Parameter):\n",
    "#         param = param.data\n",
    "#     model_state_dict[name].copy_(param)"
   ]
  },
  {
   "cell_type": "markdown",
   "metadata": {},
   "source": [
    "# Run Training/Evaluation Loop"
   ]
  },
  {
   "cell_type": "code",
   "execution_count": null,
   "metadata": {},
   "outputs": [],
   "source": [
    "optimizer = torch.optim.Adam(model.parameters(), lr=3e-4)\n",
    "training_losses = []\n",
    "total_losses = []\n",
    "best_so_far = 1e10"
   ]
  },
  {
   "cell_type": "code",
   "execution_count": null,
   "metadata": {},
   "outputs": [],
   "source": [
    "# model.cuda()\n",
    "for e in range(20):\n",
    "    for batch in tqdm(data_loader):\n",
    "        optimizer.zero_grad()\n",
    "        adjacency_matrix, node_features, distance_matrix, y = batch\n",
    "        batch_mask = torch.sum(torch.abs(node_features), dim=-1) != 0\n",
    "        output = model(node_features, batch_mask, adjacency_matrix, distance_matrix, None)\n",
    "        loss = torch.mean((y - output) ** 2)\n",
    "        loss.backward()\n",
    "        optimizer.step()\n",
    "        training_losses.append(loss.detach())\n",
    "    \n",
    "    with torch.no_grad():\n",
    "        n_batches = 0\n",
    "        cum_mse = 0\n",
    "        print(\"Evaluating\")\n",
    "        for batch in tqdm(data_loader):\n",
    "            adjacency_matrix, node_features, distance_matrix, y = batch\n",
    "            batch_mask = torch.sum(torch.abs(node_features), dim=-1) != 0\n",
    "            output = model(node_features, batch_mask, adjacency_matrix, distance_matrix, None)\n",
    "            cum_mse += torch.mean((y - output) ** 2)\n",
    "            n_batches += 1\n",
    "        cum_mse /= n_batches\n",
    "        print(\"MSE for epoch: \", cum_mse)\n",
    "        if cum_mse < best_so_far:\n",
    "            best_so_far = cum_mse\n",
    "            best_model = copy.deepcopy(model)\n",
    "            best_epoch = e\n",
    "            \n",
    "            "
   ]
  },
  {
   "cell_type": "code",
   "execution_count": null,
   "metadata": {},
   "outputs": [],
   "source": [
    "import matplotlib.pyplot as plt\n",
    "plt.plot(training_losses[14:])"
   ]
  },
  {
   "cell_type": "code",
   "execution_count": null,
   "metadata": {},
   "outputs": [],
   "source": [
    "node_features.shape"
   ]
  },
  {
   "cell_type": "code",
   "execution_count": null,
   "metadata": {},
   "outputs": [],
   "source": [
    "batch_mask[0]"
   ]
  },
  {
   "cell_type": "code",
   "execution_count": null,
   "metadata": {},
   "outputs": [],
   "source": [
    "with torch.no_grad():\n",
    "    for batch in tqdm(data_loader):\n",
    "        adjacency_matrix, node_features, distance_matrix, y = batch\n",
    "        batch_mask = torch.sum(torch.abs(node_features), dim=-1) != 0\n",
    "        output = model(node_features, batch_mask, adjacency_matrix, distance_matrix, None)\n",
    "        print(torch.stack([y[:5].squeeze(1), output[:5].squeeze(1)]))"
   ]
  },
  {
   "cell_type": "code",
   "execution_count": null,
   "metadata": {},
   "outputs": [],
   "source": []
  }
 ],
 "metadata": {
  "kernelspec": {
   "display_name": "chem_env",
   "language": "python",
   "name": "chem_env"
  },
  "language_info": {
   "codemirror_mode": {
    "name": "ipython",
    "version": 3
   },
   "file_extension": ".py",
   "mimetype": "text/x-python",
   "name": "python",
   "nbconvert_exporter": "python",
   "pygments_lexer": "ipython3",
   "version": "3.7.10"
  }
 },
 "nbformat": 4,
 "nbformat_minor": 4
}
